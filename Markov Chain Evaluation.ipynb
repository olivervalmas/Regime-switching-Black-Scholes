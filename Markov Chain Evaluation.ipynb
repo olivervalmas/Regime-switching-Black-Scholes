{
 "cells": [
  {
   "cell_type": "code",
   "execution_count": 1,
   "metadata": {},
   "outputs": [],
   "source": [
    "import numpy as np\n",
    "import matplotlib.pyplot as plt\n",
    "import matplotlib\n",
    "# Parameters\n",
    "# drift coefficent\n",
    "mu = 0.3\n",
    "# number of steps\n",
    "n = 10000\n",
    "# time in years\n",
    "T = 1\n",
    "# number of sims\n",
    "M = 100\n",
    "# initial stock price\n",
    "S0 = 100\n",
    "# volatility\n",
    "sigma = 0\n",
    "\n",
    "# matplotlib.use(\"pgf\")\n",
    "matplotlib.rcParams.update({\n",
    "    \"pgf.texsystem\": \"pdflatex\",\n",
    "    'font.family': 'serif',\n",
    "    'text.usetex': True,\n",
    "    'pgf.rcfonts': False,\n",
    "    'font.size': 14,\n",
    "    'legend.fontsize': 13,\n",
    "})\n"
   ]
  },
  {
   "cell_type": "code",
   "execution_count": 2,
   "metadata": {},
   "outputs": [],
   "source": [
    "import random\n",
    "import numpy as np\n",
    "import matplotlib.pyplot as plt\n",
    "\n",
    "random.seed(11)\n",
    "\n",
    "def sample_from_rate(rate):\n",
    "    return random.expovariate(rate)\n",
    "\n",
    "def simulate_cmc(Q, time, warm_up):\n",
    "    Q = list(Q)  # In case a matrix is input\n",
    "    state_space = range(len(Q))  # Index the state space\n",
    "    time_spent = {s:0 for s in state_space}  # Set up a dictionary to keep track of time\n",
    "    clock = 0  # Keep track of the clock\n",
    "    current_state = 0  # First state\n",
    "    traj = [(current_state, 0)] # trajectory\n",
    "    while clock < time:\n",
    "        # Sample the transitions\n",
    "        sojourn_times = [sample_from_rate(rate) for rate in Q[current_state][:current_state]]\n",
    "        sojourn_times += [10000000000]  # An infinite sojourn to the same state\n",
    "        sojourn_times += [sample_from_rate(rate) for rate in Q[current_state][current_state + 1:]]\n",
    "\n",
    "        # Identify the next state\n",
    "        next_state = min(state_space, key=lambda x: sojourn_times[x])\n",
    "        sojourn = sojourn_times[next_state]\n",
    "        \n",
    "        clock += sojourn\n",
    "        traj.append((next_state, clock))\n",
    "        \n",
    "        if clock > warm_up:  # Keep track if past warm up time\n",
    "            time_spent[current_state] += sojourn\n",
    "        current_state = next_state  # Transition\n",
    "        \n",
    "    traj[-1] = (traj[-2][0], time) # Truncate final time\n",
    "\n",
    "    pi = [time_spent[state] / sum(list(time_spent.values())) for state in state_space]  # Calculate probabilities\n",
    "    return pi, traj\n",
    "\n",
    "Q = np.array([[-1, 1],\n",
    "              [3, -3]]\n",
    "            )\n",
    "\n",
    "# Q = np.array([[-2, 1, 1],\n",
    "#               [1, -2, 1],\n",
    "#               [.1, .1, -.2]]\n",
    "#             )/100\n",
    "\n",
    "# p, traj = simulate_cmc(Q, 1000, 0)\n",
    "# print(p)\n",
    "# print(traj)\n",
    "\n",
    "# x_val = [x[1] for x in traj]\n",
    "# y_val = [x[0] for x in traj]\n",
    "\n",
    "# plt.plot(x_val, y_val, drawstyle='steps-post')\n",
    "# plt.grid(axis='y', color='0.7')\n",
    "# plt.yticks(list(range(len(Q))))\n",
    "# plt.xlabel('Time')\n",
    "# plt.ylabel('State')\n",
    "# plt.show()"
   ]
  },
  {
   "cell_type": "code",
   "execution_count": 3,
   "metadata": {},
   "outputs": [
    {
     "name": "stdout",
     "output_type": "stream",
     "text": [
      "16\n",
      "32\n",
      "64\n",
      "128\n",
      "256\n",
      "512\n",
      "1024\n",
      "2048\n",
      "4096\n",
      "8192\n",
      "16384\n",
      "32768\n",
      "65536\n",
      "131072\n",
      "262144\n",
      "524288\n"
     ]
    }
   ],
   "source": [
    "pis = []\n",
    "\n",
    "for i in range(4,20):\n",
    "    print(2**i)\n",
    "    pis.append(simulate_cmc(Q, 2**i, 8)[0])"
   ]
  },
  {
   "cell_type": "code",
   "execution_count": 4,
   "metadata": {},
   "outputs": [
    {
     "data": {
      "image/png": "[encoded data removed]",
      "text/plain": [
       "<Figure size 432x288 with 1 Axes>"
      ]
     },
     "metadata": {
      "needs_background": "light"
     },
     "output_type": "display_data"
    }
   ],
   "source": [
    "import matplotlib\n",
    "\n",
    "fig, ax = plt.subplots()\n",
    "ax.set_xscale('log', base=2)\n",
    "\n",
    "plt.plot([2**i for i in range(4,20)], [0.5*abs(pi[0]-0.75) + 0.5*abs(pi[1]-0.25) for pi in pis], color='black', lw=0.5)\n",
    "plt.grid(linewidth=0.5)\n",
    "# plt.xticks([2**i for i in range])\n",
    "plt.xlabel(r'$t$')\n",
    "plt.ylabel(r'$|\\hat{\\pi} - \\pi|$')\n",
    "plt.show()\n",
    "# plt.savefig(\"ctmc_2state.pgf\", bbox_inches='tight')"
   ]
  },
  {
   "cell_type": "code",
   "execution_count": 5,
   "metadata": {},
   "outputs": [
    {
     "data": {
      "image/png": "[encoded data removed]",
      "text/plain": [
       "<Figure size 432x288 with 1 Axes>"
      ]
     },
     "metadata": {
      "needs_background": "light"
     },
     "output_type": "display_data"
    }
   ],
   "source": [
    "fig, ax = plt.subplots()\n",
    "ax.set_xscale('log', base=2)\n",
    "\n",
    "plt.plot([2**i for i in range(4,20)], [-np.log(np.sqrt(pi[0]*0.75) + np.sqrt(pi[1]*0.25)) for pi in pis], color='black', lw=0.5)\n",
    "plt.grid(linewidth=0.5)\n",
    "# plt.xticks([2**i for i in range])\n",
    "plt.xlabel(r'$t$')\n",
    "plt.ylabel(r'$D_B (\\hat{\\pi}, \\pi)$')\n",
    "plt.show()\n",
    "# plt.savefig(\"ctmc_2state_bhatta.pgf\", bbox_inches='tight')"
   ]
  },
  {
   "cell_type": "code",
   "execution_count": 6,
   "metadata": {},
   "outputs": [
    {
     "name": "stdout",
     "output_type": "stream",
     "text": [
      "16\n",
      "32\n",
      "64\n",
      "128\n",
      "256\n",
      "512\n",
      "1024\n",
      "2048\n",
      "4096\n",
      "8192\n",
      "16384\n",
      "32768\n",
      "65536\n",
      "131072\n",
      "262144\n",
      "524288\n"
     ]
    }
   ],
   "source": [
    "Q = np.array([[-6, 3, 3],\n",
    "              [4, -12, 8],\n",
    "              [15, 3, -18]])\n",
    "            \n",
    "\n",
    "pis = []\n",
    "\n",
    "for i in range(4,20):\n",
    "    print(2**i)\n",
    "    pis.append(simulate_cmc(Q, 2**i, 8)[0])\n",
    "    \n",
    "# print(pis)"
   ]
  },
  {
   "cell_type": "code",
   "execution_count": 7,
   "metadata": {},
   "outputs": [
    {
     "name": "stdout",
     "output_type": "stream",
     "text": [
      "[[ -6.   4.  15.]\n",
      " [  3. -12.   3.]\n",
      " [  1.   1.   1.]]\n",
      "[[0.]\n",
      " [0.]\n",
      " [1.]]\n"
     ]
    }
   ],
   "source": [
    "def augment_Q(Q):\n",
    "    dimension = Q.shape[0]\n",
    "    M = np.vstack((Q.transpose()[:-1], np.ones(dimension)))\n",
    "    print(M)\n",
    "    b = np.vstack((np.zeros((dimension - 1, 1)), [1]))\n",
    "    print(b)\n",
    "    return M, b\n",
    "\n",
    "def obtain_steady_state(Q):\n",
    "    M, b = augment_Q(Q)\n",
    "    return np.linalg.solve(M, b).transpose()[0]\n",
    "\n",
    "expected = obtain_steady_state(Q)"
   ]
  },
  {
   "cell_type": "code",
   "execution_count": 8,
   "metadata": {},
   "outputs": [
    {
     "data": {
      "image/png": "[encoded data removed]",
      "text/plain": [
       "<Figure size 432x288 with 1 Axes>"
      ]
     },
     "metadata": {
      "needs_background": "light"
     },
     "output_type": "display_data"
    }
   ],
   "source": [
    "fig, ax = plt.subplots()\n",
    "ax.set_xscale('log', base=2)\n",
    "\n",
    "plt.plot([2**i for i in range(4,20)], [abs(pi[0]-expected[0])/3 + abs(pi[1]-expected[1])/3 + abs(pi[2]-expected[2])/3 for pi in pis], color='black', lw=0.5)\n",
    "plt.grid(linewidth=0.5)\n",
    "# plt.xticks([2**i for i in range])\n",
    "plt.xlabel(r'$t$')\n",
    "plt.ylabel(r'$|\\hat{\\pi} - \\pi|$')\n",
    "plt.show()\n",
    "# plt.savefig(\"ctmc_3state.pgf\", bbox_inches='tight')"
   ]
  },
  {
   "cell_type": "code",
   "execution_count": 9,
   "metadata": {},
   "outputs": [
    {
     "data": {
      "image/png": "[encoded data removed]",
      "text/plain": [
       "<Figure size 432x288 with 1 Axes>"
      ]
     },
     "metadata": {
      "needs_background": "light"
     },
     "output_type": "display_data"
    }
   ],
   "source": [
    "fig, ax = plt.subplots()\n",
    "ax.set_xscale('log', base=2)\n",
    "# -np.log(np.sqrt(pi[0]*0.75) + np.sqrt(pi[1]*0.25))\n",
    "plt.plot([2**i for i in range(4,20)], [-np.log(np.sqrt(pi[0]*expected[0]) + np.sqrt(pi[1]*expected[1]) + np.sqrt(pi[2]*expected[2])) for pi in pis], color='black', lw=0.5)\n",
    "plt.grid(linewidth=0.5)\n",
    "# plt.xticks([2**i for i in range])\n",
    "plt.xlabel(r'$t$')\n",
    "plt.ylabel(r'$D_B (\\hat{\\pi}, \\pi)$')\n",
    "plt.show()\n",
    "# plt.savefig(\"ctmc_3state_bhatta.pgf\", bbox_inches='tight')"
   ]
  },
  {
   "cell_type": "code",
   "execution_count": null,
   "metadata": {},
   "outputs": [],
   "source": []
  }
 ],
 "metadata": {
  "kernelspec": {
   "display_name": "Python 3",
   "language": "python",
   "name": "python3"
  },
  "language_info": {
   "codemirror_mode": {
    "name": "ipython",
    "version": 3
   },
   "file_extension": ".py",
   "mimetype": "text/x-python",
   "name": "python",
   "nbconvert_exporter": "python",
   "pygments_lexer": "ipython3",
   "version": "3.6.7"
  }
 },
 "nbformat": 4,
 "nbformat_minor": 4
}
